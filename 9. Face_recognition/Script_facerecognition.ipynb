{
 "cells": [
  {
   "cell_type": "code",
   "id": "initial_id",
   "metadata": {
    "collapsed": true,
    "ExecuteTime": {
     "end_time": "2024-07-17T21:59:00.412825Z",
     "start_time": "2024-07-17T21:59:00.408847Z"
    }
   },
   "source": [
    "import numpy as np\n",
    "import mediapipe as mp\n",
    "import supervision as sv\n",
    "from PIL import Image\n",
    "\n"
   ],
   "outputs": [],
   "execution_count": 18
  },
  {
   "metadata": {
    "ExecuteTime": {
     "end_time": "2024-07-17T21:59:03.226859Z",
     "start_time": "2024-07-17T21:59:03.094081Z"
    }
   },
   "cell_type": "code",
   "source": [
    "model = mp.solutions.face_mesh.FaceMesh()\n",
    "\n",
    "image = Image.open('C:\\\\Users\\\\JuanCarlosSaraviaDra\\\\Downloads\\\\KYC_ejemplo.jpg').convert('RGB')\n",
    "results = model.process(np.array(image))\n",
    "\n",
    "edge_annotator = sv.EdgeAnnotator(color = sv.Color.BLACK, thickness=2)\n",
    "key_points = sv.KeyPoints.from_mediapipe(results, resolution_wh=image.size)\n",
    "annotated_image = edge_annotator.annotate(scene= image, key_points=key_points)\n",
    "\n"
   ],
   "id": "35fc7f8a161c2797",
   "outputs": [],
   "execution_count": 19
  },
  {
   "metadata": {},
   "cell_type": "code",
   "source": "annotated_image",
   "id": "a1d07e580899dfd",
   "outputs": [],
   "execution_count": null
  },
  {
   "metadata": {},
   "cell_type": "code",
   "outputs": [],
   "execution_count": null,
   "source": "",
   "id": "42b4169c85d4392e"
  }
 ],
 "metadata": {
  "kernelspec": {
   "display_name": "Python 3",
   "language": "python",
   "name": "python3"
  },
  "language_info": {
   "codemirror_mode": {
    "name": "ipython",
    "version": 2
   },
   "file_extension": ".py",
   "mimetype": "text/x-python",
   "name": "python",
   "nbconvert_exporter": "python",
   "pygments_lexer": "ipython2",
   "version": "2.7.6"
  }
 },
 "nbformat": 4,
 "nbformat_minor": 5
}
