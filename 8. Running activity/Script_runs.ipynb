{
 "cells": [
  {
   "cell_type": "markdown",
   "source": [
    "### Analysing my own runs"
   ],
   "metadata": {
    "collapsed": false
   },
   "id": "103ba329b40aa538"
  },
  {
   "cell_type": "markdown",
   "source": [
    "#### Importing libraries"
   ],
   "metadata": {
    "collapsed": false
   },
   "id": "e48099eacd8fbed9"
  },
  {
   "cell_type": "code",
   "execution_count": 11,
   "outputs": [],
   "source": [
    "import pandas as pd\n",
    "import seaborn as sn\n"
   ],
   "metadata": {
    "collapsed": false,
    "ExecuteTime": {
     "end_time": "2023-12-21T17:02:12.924889600Z",
     "start_time": "2023-12-21T17:02:10.149136400Z"
    }
   },
   "id": "190dcf5d92fe3f81"
  },
  {
   "cell_type": "markdown",
   "source": [
    "### Reading the data"
   ],
   "metadata": {
    "collapsed": false
   },
   "id": "7fabd267dd7f42"
  },
  {
   "cell_type": "code",
   "execution_count": 3,
   "outputs": [
    {
     "data": {
      "text/plain": "   Distance Calories      Time  Avg HR  Max HR Avg Run Cadence  \\\n0      4.15      228  00:23:28     142     157             168   \n1      6.04      355  00:34:06     153     171             174   \n2      8.09      446  00:44:02     151     173             176   \n3      3.13      207  00:21:24     145     172             168   \n4      4.02      234  00:22:53     153     180             170   \n\n  Max Run Cadence         Avg Pace        Best Pace Total Ascent  ...  \\\n0             177  0 days 00:05:39  0 days 00:04:39            6  ...   \n1             193  0 days 00:05:39  0 days 00:04:03           40  ...   \n2             193  0 days 00:05:27  0 days 00:04:12           11  ...   \n3             183  0 days 00:06:51  0 days 00:04:40            2  ...   \n4             181  0 days 00:05:42  0 days 00:04:09            2  ...   \n\n  Best Lap Time  Number of Laps Moving Time  Elapsed Time Min Elevation  \\\n0      00:35.79               5    00:23:17      00:23:28            90   \n1      00:10.19               7    00:33:57      00:34:06           189   \n2      00:21.59               9    00:43:52      00:44:02           179   \n3      00:34.64               4    00:21:16      00:21:24           162   \n4      00:04.89               5    00:22:52      00:22:53            84   \n\n  Max Elevation    run_date         run_time run_year Day_time  \n0           257  2023-12-11  0 days 07:27:43     2023   Mañana  \n1           276  2023-12-09  0 days 06:38:37     2023   Mañana  \n2           249  2023-12-08  0 days 06:16:54     2023   Mañana  \n3           217  2023-12-07  0 days 16:59:28     2023    Tarde  \n4           240  2023-12-06  0 days 06:15:05     2023   Mañana  \n\n[5 rows x 22 columns]",
      "text/html": "<div>\n<style scoped>\n    .dataframe tbody tr th:only-of-type {\n        vertical-align: middle;\n    }\n\n    .dataframe tbody tr th {\n        vertical-align: top;\n    }\n\n    .dataframe thead th {\n        text-align: right;\n    }\n</style>\n<table border=\"1\" class=\"dataframe\">\n  <thead>\n    <tr style=\"text-align: right;\">\n      <th></th>\n      <th>Distance</th>\n      <th>Calories</th>\n      <th>Time</th>\n      <th>Avg HR</th>\n      <th>Max HR</th>\n      <th>Avg Run Cadence</th>\n      <th>Max Run Cadence</th>\n      <th>Avg Pace</th>\n      <th>Best Pace</th>\n      <th>Total Ascent</th>\n      <th>...</th>\n      <th>Best Lap Time</th>\n      <th>Number of Laps</th>\n      <th>Moving Time</th>\n      <th>Elapsed Time</th>\n      <th>Min Elevation</th>\n      <th>Max Elevation</th>\n      <th>run_date</th>\n      <th>run_time</th>\n      <th>run_year</th>\n      <th>Day_time</th>\n    </tr>\n  </thead>\n  <tbody>\n    <tr>\n      <th>0</th>\n      <td>4.15</td>\n      <td>228</td>\n      <td>00:23:28</td>\n      <td>142</td>\n      <td>157</td>\n      <td>168</td>\n      <td>177</td>\n      <td>0 days 00:05:39</td>\n      <td>0 days 00:04:39</td>\n      <td>6</td>\n      <td>...</td>\n      <td>00:35.79</td>\n      <td>5</td>\n      <td>00:23:17</td>\n      <td>00:23:28</td>\n      <td>90</td>\n      <td>257</td>\n      <td>2023-12-11</td>\n      <td>0 days 07:27:43</td>\n      <td>2023</td>\n      <td>Mañana</td>\n    </tr>\n    <tr>\n      <th>1</th>\n      <td>6.04</td>\n      <td>355</td>\n      <td>00:34:06</td>\n      <td>153</td>\n      <td>171</td>\n      <td>174</td>\n      <td>193</td>\n      <td>0 days 00:05:39</td>\n      <td>0 days 00:04:03</td>\n      <td>40</td>\n      <td>...</td>\n      <td>00:10.19</td>\n      <td>7</td>\n      <td>00:33:57</td>\n      <td>00:34:06</td>\n      <td>189</td>\n      <td>276</td>\n      <td>2023-12-09</td>\n      <td>0 days 06:38:37</td>\n      <td>2023</td>\n      <td>Mañana</td>\n    </tr>\n    <tr>\n      <th>2</th>\n      <td>8.09</td>\n      <td>446</td>\n      <td>00:44:02</td>\n      <td>151</td>\n      <td>173</td>\n      <td>176</td>\n      <td>193</td>\n      <td>0 days 00:05:27</td>\n      <td>0 days 00:04:12</td>\n      <td>11</td>\n      <td>...</td>\n      <td>00:21.59</td>\n      <td>9</td>\n      <td>00:43:52</td>\n      <td>00:44:02</td>\n      <td>179</td>\n      <td>249</td>\n      <td>2023-12-08</td>\n      <td>0 days 06:16:54</td>\n      <td>2023</td>\n      <td>Mañana</td>\n    </tr>\n    <tr>\n      <th>3</th>\n      <td>3.13</td>\n      <td>207</td>\n      <td>00:21:24</td>\n      <td>145</td>\n      <td>172</td>\n      <td>168</td>\n      <td>183</td>\n      <td>0 days 00:06:51</td>\n      <td>0 days 00:04:40</td>\n      <td>2</td>\n      <td>...</td>\n      <td>00:34.64</td>\n      <td>4</td>\n      <td>00:21:16</td>\n      <td>00:21:24</td>\n      <td>162</td>\n      <td>217</td>\n      <td>2023-12-07</td>\n      <td>0 days 16:59:28</td>\n      <td>2023</td>\n      <td>Tarde</td>\n    </tr>\n    <tr>\n      <th>4</th>\n      <td>4.02</td>\n      <td>234</td>\n      <td>00:22:53</td>\n      <td>153</td>\n      <td>180</td>\n      <td>170</td>\n      <td>181</td>\n      <td>0 days 00:05:42</td>\n      <td>0 days 00:04:09</td>\n      <td>2</td>\n      <td>...</td>\n      <td>00:04.89</td>\n      <td>5</td>\n      <td>00:22:52</td>\n      <td>00:22:53</td>\n      <td>84</td>\n      <td>240</td>\n      <td>2023-12-06</td>\n      <td>0 days 06:15:05</td>\n      <td>2023</td>\n      <td>Mañana</td>\n    </tr>\n  </tbody>\n</table>\n<p>5 rows × 22 columns</p>\n</div>"
     },
     "execution_count": 3,
     "metadata": {},
     "output_type": "execute_result"
    }
   ],
   "source": [
    "data_runs = pd.read_csv(\"C:\\\\Users\\\\JuanCarlosSaraviaDra\\\\Dropbox\\\\Activities_garmin_VF.csv\", sep=',')\n",
    "\n",
    "data_runs.head()\n",
    "\n"
   ],
   "metadata": {
    "collapsed": false,
    "ExecuteTime": {
     "end_time": "2023-12-21T16:54:28.172866300Z",
     "start_time": "2023-12-21T16:54:28.102848400Z"
    }
   },
   "id": "a863739aa4c76739"
  },
  {
   "cell_type": "code",
   "execution_count": 10,
   "outputs": [
    {
     "data": {
      "text/plain": "   Distance Calories            Time  Avg HR  Max HR Avg Run Cadence  \\\n0      4.15      228 0 days 00:23:28     142     157             168   \n1      6.04      355 0 days 00:34:06     153     171             174   \n2      8.09      446 0 days 00:44:02     151     173             176   \n3      3.13      207 0 days 00:21:24     145     172             168   \n4      4.02      234 0 days 00:22:53     153     180             170   \n\n  Max Run Cadence        Avg Pace       Best Pace Total Ascent  ...  \\\n0             177 0 days 00:05:39 0 days 00:04:39            6  ...   \n1             193 0 days 00:05:39 0 days 00:04:03           40  ...   \n2             193 0 days 00:05:27 0 days 00:04:12           11  ...   \n3             183 0 days 00:06:51 0 days 00:04:40            2  ...   \n4             181 0 days 00:05:42 0 days 00:04:09            2  ...   \n\n  Best Lap Time  Number of Laps Moving Time  Elapsed Time Min Elevation  \\\n0      00:35.79               5    00:23:17      00:23:28            90   \n1      00:10.19               7    00:33:57      00:34:06           189   \n2      00:21.59               9    00:43:52      00:44:02           179   \n3      00:34.64               4    00:21:16      00:21:24           162   \n4      00:04.89               5    00:22:52      00:22:53            84   \n\n  Max Elevation    run_date        run_time run_year Day_time  \n0           257  2023-12-11 0 days 07:27:43     2023   Mañana  \n1           276  2023-12-09 0 days 06:38:37     2023   Mañana  \n2           249  2023-12-08 0 days 06:16:54     2023   Mañana  \n3           217  2023-12-07 0 days 16:59:28     2023    Tarde  \n4           240  2023-12-06 0 days 06:15:05     2023   Mañana  \n\n[5 rows x 22 columns]",
      "text/html": "<div>\n<style scoped>\n    .dataframe tbody tr th:only-of-type {\n        vertical-align: middle;\n    }\n\n    .dataframe tbody tr th {\n        vertical-align: top;\n    }\n\n    .dataframe thead th {\n        text-align: right;\n    }\n</style>\n<table border=\"1\" class=\"dataframe\">\n  <thead>\n    <tr style=\"text-align: right;\">\n      <th></th>\n      <th>Distance</th>\n      <th>Calories</th>\n      <th>Time</th>\n      <th>Avg HR</th>\n      <th>Max HR</th>\n      <th>Avg Run Cadence</th>\n      <th>Max Run Cadence</th>\n      <th>Avg Pace</th>\n      <th>Best Pace</th>\n      <th>Total Ascent</th>\n      <th>...</th>\n      <th>Best Lap Time</th>\n      <th>Number of Laps</th>\n      <th>Moving Time</th>\n      <th>Elapsed Time</th>\n      <th>Min Elevation</th>\n      <th>Max Elevation</th>\n      <th>run_date</th>\n      <th>run_time</th>\n      <th>run_year</th>\n      <th>Day_time</th>\n    </tr>\n  </thead>\n  <tbody>\n    <tr>\n      <th>0</th>\n      <td>4.15</td>\n      <td>228</td>\n      <td>0 days 00:23:28</td>\n      <td>142</td>\n      <td>157</td>\n      <td>168</td>\n      <td>177</td>\n      <td>0 days 00:05:39</td>\n      <td>0 days 00:04:39</td>\n      <td>6</td>\n      <td>...</td>\n      <td>00:35.79</td>\n      <td>5</td>\n      <td>00:23:17</td>\n      <td>00:23:28</td>\n      <td>90</td>\n      <td>257</td>\n      <td>2023-12-11</td>\n      <td>0 days 07:27:43</td>\n      <td>2023</td>\n      <td>Mañana</td>\n    </tr>\n    <tr>\n      <th>1</th>\n      <td>6.04</td>\n      <td>355</td>\n      <td>0 days 00:34:06</td>\n      <td>153</td>\n      <td>171</td>\n      <td>174</td>\n      <td>193</td>\n      <td>0 days 00:05:39</td>\n      <td>0 days 00:04:03</td>\n      <td>40</td>\n      <td>...</td>\n      <td>00:10.19</td>\n      <td>7</td>\n      <td>00:33:57</td>\n      <td>00:34:06</td>\n      <td>189</td>\n      <td>276</td>\n      <td>2023-12-09</td>\n      <td>0 days 06:38:37</td>\n      <td>2023</td>\n      <td>Mañana</td>\n    </tr>\n    <tr>\n      <th>2</th>\n      <td>8.09</td>\n      <td>446</td>\n      <td>0 days 00:44:02</td>\n      <td>151</td>\n      <td>173</td>\n      <td>176</td>\n      <td>193</td>\n      <td>0 days 00:05:27</td>\n      <td>0 days 00:04:12</td>\n      <td>11</td>\n      <td>...</td>\n      <td>00:21.59</td>\n      <td>9</td>\n      <td>00:43:52</td>\n      <td>00:44:02</td>\n      <td>179</td>\n      <td>249</td>\n      <td>2023-12-08</td>\n      <td>0 days 06:16:54</td>\n      <td>2023</td>\n      <td>Mañana</td>\n    </tr>\n    <tr>\n      <th>3</th>\n      <td>3.13</td>\n      <td>207</td>\n      <td>0 days 00:21:24</td>\n      <td>145</td>\n      <td>172</td>\n      <td>168</td>\n      <td>183</td>\n      <td>0 days 00:06:51</td>\n      <td>0 days 00:04:40</td>\n      <td>2</td>\n      <td>...</td>\n      <td>00:34.64</td>\n      <td>4</td>\n      <td>00:21:16</td>\n      <td>00:21:24</td>\n      <td>162</td>\n      <td>217</td>\n      <td>2023-12-07</td>\n      <td>0 days 16:59:28</td>\n      <td>2023</td>\n      <td>Tarde</td>\n    </tr>\n    <tr>\n      <th>4</th>\n      <td>4.02</td>\n      <td>234</td>\n      <td>0 days 00:22:53</td>\n      <td>153</td>\n      <td>180</td>\n      <td>170</td>\n      <td>181</td>\n      <td>0 days 00:05:42</td>\n      <td>0 days 00:04:09</td>\n      <td>2</td>\n      <td>...</td>\n      <td>00:04.89</td>\n      <td>5</td>\n      <td>00:22:52</td>\n      <td>00:22:53</td>\n      <td>84</td>\n      <td>240</td>\n      <td>2023-12-06</td>\n      <td>0 days 06:15:05</td>\n      <td>2023</td>\n      <td>Mañana</td>\n    </tr>\n  </tbody>\n</table>\n<p>5 rows × 22 columns</p>\n</div>"
     },
     "execution_count": 10,
     "metadata": {},
     "output_type": "execute_result"
    }
   ],
   "source": [
    "\n",
    "data_runs['Avg Pace'] = pd.to_timedelta(data_runs['Avg Pace'])\n",
    "data_runs['Best Pace'] = pd.to_timedelta(data_runs['Best Pace'])\n",
    "data_runs['run_time'] = pd.to_timedelta(data_runs['run_time'])\n",
    "data_runs['Time'] = pd.to_timedelta(data_runs['Time'])\n",
    "\n",
    "data_runs.head()\n"
   ],
   "metadata": {
    "collapsed": false,
    "ExecuteTime": {
     "end_time": "2023-12-21T17:00:53.017957900Z",
     "start_time": "2023-12-21T17:00:52.967309100Z"
    }
   },
   "id": "4308c043b4c30089"
  },
  {
   "cell_type": "code",
   "execution_count": null,
   "outputs": [],
   "source": [],
   "metadata": {
    "collapsed": false
   },
   "id": "97dae1ad9a19d2c"
  }
 ],
 "metadata": {
  "kernelspec": {
   "display_name": "Python 3",
   "language": "python",
   "name": "python3"
  },
  "language_info": {
   "codemirror_mode": {
    "name": "ipython",
    "version": 2
   },
   "file_extension": ".py",
   "mimetype": "text/x-python",
   "name": "python",
   "nbconvert_exporter": "python",
   "pygments_lexer": "ipython2",
   "version": "2.7.6"
  }
 },
 "nbformat": 4,
 "nbformat_minor": 5
}
