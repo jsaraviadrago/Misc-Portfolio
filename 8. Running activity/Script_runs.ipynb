{
 "cells": [
  {
   "cell_type": "markdown",
   "source": [
    "### Analysing my own runs"
   ],
   "metadata": {
    "collapsed": false
   },
   "id": "103ba329b40aa538"
  },
  {
   "cell_type": "markdown",
   "source": [
    "#### Importing libraries"
   ],
   "metadata": {
    "collapsed": false
   },
   "id": "e48099eacd8fbed9"
  },
  {
   "cell_type": "code",
   "execution_count": 25,
   "outputs": [],
   "source": [
    "import pandas as pd\n"
   ],
   "metadata": {
    "collapsed": false,
    "ExecuteTime": {
     "end_time": "2023-12-20T21:59:47.064390600Z",
     "start_time": "2023-12-20T21:59:47.046150Z"
    }
   },
   "id": "190dcf5d92fe3f81"
  },
  {
   "cell_type": "markdown",
   "source": [
    "### Reading the data"
   ],
   "metadata": {
    "collapsed": false
   },
   "id": "7fabd267dd7f42"
  },
  {
   "cell_type": "code",
   "execution_count": 26,
   "outputs": [
    {
     "data": {
      "text/plain": "   Distance Calories      Time  Avg HR  Max HR Avg Run Cadence  \\\n0      4.15      228  00:23:28     142     157             168   \n1      6.04      355  00:34:06     153     171             174   \n2      8.09      446  00:44:02     151     173             176   \n3      3.13      207  00:21:24     145     172             168   \n4      4.02      234  00:22:53     153     180             170   \n\n  Max Run Cadence Avg Pace Best Pace Total Ascent  ... Avg Stride Length  \\\n0             177    05:39     04:39            6  ...              1.05   \n1             193    05:39     04:03           40  ...              1.02   \n2             193    05:27     04:12           11  ...              1.04   \n3             183    06:51     04:40            2  ...              0.87   \n4             181    05:42     04:09            2  ...              1.03   \n\n   Best Lap Time Number of Laps  Moving Time Elapsed Time Min Elevation  \\\n0        00:35.8              5     00:23:17     00:23:28            90   \n1        00:10.2              7     00:33:57     00:34:06           189   \n2        00:21.6              9     00:43:52     00:44:02           179   \n3        00:34.6              4     00:21:16     00:21:24           162   \n4        00:04.9              5     00:22:52     00:22:53            84   \n\n  Max Elevation    run_date  run_time run_year  \n0           257  11/12/2023  07:27:43     2023  \n1           276   9/12/2023  06:38:37     2023  \n2           249   8/12/2023  06:16:54     2023  \n3           217   7/12/2023  16:59:28     2023  \n4           240   6/12/2023  06:15:05     2023  \n\n[5 rows x 21 columns]",
      "text/html": "<div>\n<style scoped>\n    .dataframe tbody tr th:only-of-type {\n        vertical-align: middle;\n    }\n\n    .dataframe tbody tr th {\n        vertical-align: top;\n    }\n\n    .dataframe thead th {\n        text-align: right;\n    }\n</style>\n<table border=\"1\" class=\"dataframe\">\n  <thead>\n    <tr style=\"text-align: right;\">\n      <th></th>\n      <th>Distance</th>\n      <th>Calories</th>\n      <th>Time</th>\n      <th>Avg HR</th>\n      <th>Max HR</th>\n      <th>Avg Run Cadence</th>\n      <th>Max Run Cadence</th>\n      <th>Avg Pace</th>\n      <th>Best Pace</th>\n      <th>Total Ascent</th>\n      <th>...</th>\n      <th>Avg Stride Length</th>\n      <th>Best Lap Time</th>\n      <th>Number of Laps</th>\n      <th>Moving Time</th>\n      <th>Elapsed Time</th>\n      <th>Min Elevation</th>\n      <th>Max Elevation</th>\n      <th>run_date</th>\n      <th>run_time</th>\n      <th>run_year</th>\n    </tr>\n  </thead>\n  <tbody>\n    <tr>\n      <th>0</th>\n      <td>4.15</td>\n      <td>228</td>\n      <td>00:23:28</td>\n      <td>142</td>\n      <td>157</td>\n      <td>168</td>\n      <td>177</td>\n      <td>05:39</td>\n      <td>04:39</td>\n      <td>6</td>\n      <td>...</td>\n      <td>1.05</td>\n      <td>00:35.8</td>\n      <td>5</td>\n      <td>00:23:17</td>\n      <td>00:23:28</td>\n      <td>90</td>\n      <td>257</td>\n      <td>11/12/2023</td>\n      <td>07:27:43</td>\n      <td>2023</td>\n    </tr>\n    <tr>\n      <th>1</th>\n      <td>6.04</td>\n      <td>355</td>\n      <td>00:34:06</td>\n      <td>153</td>\n      <td>171</td>\n      <td>174</td>\n      <td>193</td>\n      <td>05:39</td>\n      <td>04:03</td>\n      <td>40</td>\n      <td>...</td>\n      <td>1.02</td>\n      <td>00:10.2</td>\n      <td>7</td>\n      <td>00:33:57</td>\n      <td>00:34:06</td>\n      <td>189</td>\n      <td>276</td>\n      <td>9/12/2023</td>\n      <td>06:38:37</td>\n      <td>2023</td>\n    </tr>\n    <tr>\n      <th>2</th>\n      <td>8.09</td>\n      <td>446</td>\n      <td>00:44:02</td>\n      <td>151</td>\n      <td>173</td>\n      <td>176</td>\n      <td>193</td>\n      <td>05:27</td>\n      <td>04:12</td>\n      <td>11</td>\n      <td>...</td>\n      <td>1.04</td>\n      <td>00:21.6</td>\n      <td>9</td>\n      <td>00:43:52</td>\n      <td>00:44:02</td>\n      <td>179</td>\n      <td>249</td>\n      <td>8/12/2023</td>\n      <td>06:16:54</td>\n      <td>2023</td>\n    </tr>\n    <tr>\n      <th>3</th>\n      <td>3.13</td>\n      <td>207</td>\n      <td>00:21:24</td>\n      <td>145</td>\n      <td>172</td>\n      <td>168</td>\n      <td>183</td>\n      <td>06:51</td>\n      <td>04:40</td>\n      <td>2</td>\n      <td>...</td>\n      <td>0.87</td>\n      <td>00:34.6</td>\n      <td>4</td>\n      <td>00:21:16</td>\n      <td>00:21:24</td>\n      <td>162</td>\n      <td>217</td>\n      <td>7/12/2023</td>\n      <td>16:59:28</td>\n      <td>2023</td>\n    </tr>\n    <tr>\n      <th>4</th>\n      <td>4.02</td>\n      <td>234</td>\n      <td>00:22:53</td>\n      <td>153</td>\n      <td>180</td>\n      <td>170</td>\n      <td>181</td>\n      <td>05:42</td>\n      <td>04:09</td>\n      <td>2</td>\n      <td>...</td>\n      <td>1.03</td>\n      <td>00:04.9</td>\n      <td>5</td>\n      <td>00:22:52</td>\n      <td>00:22:53</td>\n      <td>84</td>\n      <td>240</td>\n      <td>6/12/2023</td>\n      <td>06:15:05</td>\n      <td>2023</td>\n    </tr>\n  </tbody>\n</table>\n<p>5 rows × 21 columns</p>\n</div>"
     },
     "execution_count": 26,
     "metadata": {},
     "output_type": "execute_result"
    }
   ],
   "source": [
    "data_runs = pd.read_csv(\"C:\\\\Users\\\\JuanCarlosSaraviaDra\\\\Dropbox\\\\Activities_garmin_VF.csv\", sep=';')\n",
    "\n",
    "data_runs.head()\n",
    "\n"
   ],
   "metadata": {
    "collapsed": false,
    "ExecuteTime": {
     "end_time": "2023-12-20T21:59:49.574975100Z",
     "start_time": "2023-12-20T21:59:49.551908600Z"
    }
   },
   "id": "a863739aa4c76739"
  },
  {
   "cell_type": "code",
   "execution_count": 27,
   "outputs": [
    {
     "data": {
      "text/plain": "   Distance Calories      Time  Avg HR  Max HR Avg Run Cadence  \\\n0      4.15      228  00:23:28     142     157             168   \n1      6.04      355  00:34:06     153     171             174   \n2      8.09      446  00:44:02     151     173             176   \n3      3.13      207  00:21:24     145     172             168   \n4      4.02      234  00:22:53     153     180             170   \n\n  Max Run Cadence  Avg Pace Best Pace Total Ascent  ... Avg Stride Length  \\\n0             177  00:05:39  00:04:39            6  ...              1.05   \n1             193  00:05:39  00:04:03           40  ...              1.02   \n2             193  00:05:27  00:04:12           11  ...              1.04   \n3             183  00:06:51  00:04:40            2  ...              0.87   \n4             181  00:05:42  00:04:09            2  ...              1.03   \n\n   Best Lap Time Number of Laps  Moving Time Elapsed Time Min Elevation  \\\n0        00:35.8              5     00:23:17     00:23:28            90   \n1        00:10.2              7     00:33:57     00:34:06           189   \n2        00:21.6              9     00:43:52     00:44:02           179   \n3        00:34.6              4     00:21:16     00:21:24           162   \n4        00:04.9              5     00:22:52     00:22:53            84   \n\n  Max Elevation    run_date  run_time run_year  \n0           257  11/12/2023  07:27:43     2023  \n1           276   9/12/2023  06:38:37     2023  \n2           249   8/12/2023  06:16:54     2023  \n3           217   7/12/2023  16:59:28     2023  \n4           240   6/12/2023  06:15:05     2023  \n\n[5 rows x 21 columns]",
      "text/html": "<div>\n<style scoped>\n    .dataframe tbody tr th:only-of-type {\n        vertical-align: middle;\n    }\n\n    .dataframe tbody tr th {\n        vertical-align: top;\n    }\n\n    .dataframe thead th {\n        text-align: right;\n    }\n</style>\n<table border=\"1\" class=\"dataframe\">\n  <thead>\n    <tr style=\"text-align: right;\">\n      <th></th>\n      <th>Distance</th>\n      <th>Calories</th>\n      <th>Time</th>\n      <th>Avg HR</th>\n      <th>Max HR</th>\n      <th>Avg Run Cadence</th>\n      <th>Max Run Cadence</th>\n      <th>Avg Pace</th>\n      <th>Best Pace</th>\n      <th>Total Ascent</th>\n      <th>...</th>\n      <th>Avg Stride Length</th>\n      <th>Best Lap Time</th>\n      <th>Number of Laps</th>\n      <th>Moving Time</th>\n      <th>Elapsed Time</th>\n      <th>Min Elevation</th>\n      <th>Max Elevation</th>\n      <th>run_date</th>\n      <th>run_time</th>\n      <th>run_year</th>\n    </tr>\n  </thead>\n  <tbody>\n    <tr>\n      <th>0</th>\n      <td>4.15</td>\n      <td>228</td>\n      <td>00:23:28</td>\n      <td>142</td>\n      <td>157</td>\n      <td>168</td>\n      <td>177</td>\n      <td>00:05:39</td>\n      <td>00:04:39</td>\n      <td>6</td>\n      <td>...</td>\n      <td>1.05</td>\n      <td>00:35.8</td>\n      <td>5</td>\n      <td>00:23:17</td>\n      <td>00:23:28</td>\n      <td>90</td>\n      <td>257</td>\n      <td>11/12/2023</td>\n      <td>07:27:43</td>\n      <td>2023</td>\n    </tr>\n    <tr>\n      <th>1</th>\n      <td>6.04</td>\n      <td>355</td>\n      <td>00:34:06</td>\n      <td>153</td>\n      <td>171</td>\n      <td>174</td>\n      <td>193</td>\n      <td>00:05:39</td>\n      <td>00:04:03</td>\n      <td>40</td>\n      <td>...</td>\n      <td>1.02</td>\n      <td>00:10.2</td>\n      <td>7</td>\n      <td>00:33:57</td>\n      <td>00:34:06</td>\n      <td>189</td>\n      <td>276</td>\n      <td>9/12/2023</td>\n      <td>06:38:37</td>\n      <td>2023</td>\n    </tr>\n    <tr>\n      <th>2</th>\n      <td>8.09</td>\n      <td>446</td>\n      <td>00:44:02</td>\n      <td>151</td>\n      <td>173</td>\n      <td>176</td>\n      <td>193</td>\n      <td>00:05:27</td>\n      <td>00:04:12</td>\n      <td>11</td>\n      <td>...</td>\n      <td>1.04</td>\n      <td>00:21.6</td>\n      <td>9</td>\n      <td>00:43:52</td>\n      <td>00:44:02</td>\n      <td>179</td>\n      <td>249</td>\n      <td>8/12/2023</td>\n      <td>06:16:54</td>\n      <td>2023</td>\n    </tr>\n    <tr>\n      <th>3</th>\n      <td>3.13</td>\n      <td>207</td>\n      <td>00:21:24</td>\n      <td>145</td>\n      <td>172</td>\n      <td>168</td>\n      <td>183</td>\n      <td>00:06:51</td>\n      <td>00:04:40</td>\n      <td>2</td>\n      <td>...</td>\n      <td>0.87</td>\n      <td>00:34.6</td>\n      <td>4</td>\n      <td>00:21:16</td>\n      <td>00:21:24</td>\n      <td>162</td>\n      <td>217</td>\n      <td>7/12/2023</td>\n      <td>16:59:28</td>\n      <td>2023</td>\n    </tr>\n    <tr>\n      <th>4</th>\n      <td>4.02</td>\n      <td>234</td>\n      <td>00:22:53</td>\n      <td>153</td>\n      <td>180</td>\n      <td>170</td>\n      <td>181</td>\n      <td>00:05:42</td>\n      <td>00:04:09</td>\n      <td>2</td>\n      <td>...</td>\n      <td>1.03</td>\n      <td>00:04.9</td>\n      <td>5</td>\n      <td>00:22:52</td>\n      <td>00:22:53</td>\n      <td>84</td>\n      <td>240</td>\n      <td>6/12/2023</td>\n      <td>06:15:05</td>\n      <td>2023</td>\n    </tr>\n  </tbody>\n</table>\n<p>5 rows × 21 columns</p>\n</div>"
     },
     "execution_count": 27,
     "metadata": {},
     "output_type": "execute_result"
    }
   ],
   "source": [
    "\n",
    "\n"
   ],
   "metadata": {
    "collapsed": false,
    "ExecuteTime": {
     "end_time": "2023-12-20T21:59:53.818816200Z",
     "start_time": "2023-12-20T21:59:53.797234500Z"
    }
   },
   "id": "4308c043b4c30089"
  },
  {
   "cell_type": "code",
   "execution_count": null,
   "outputs": [],
   "source": [],
   "metadata": {
    "collapsed": false
   },
   "id": "97dae1ad9a19d2c"
  }
 ],
 "metadata": {
  "kernelspec": {
   "display_name": "Python 3",
   "language": "python",
   "name": "python3"
  },
  "language_info": {
   "codemirror_mode": {
    "name": "ipython",
    "version": 2
   },
   "file_extension": ".py",
   "mimetype": "text/x-python",
   "name": "python",
   "nbconvert_exporter": "python",
   "pygments_lexer": "ipython2",
   "version": "2.7.6"
  }
 },
 "nbformat": 4,
 "nbformat_minor": 5
}
