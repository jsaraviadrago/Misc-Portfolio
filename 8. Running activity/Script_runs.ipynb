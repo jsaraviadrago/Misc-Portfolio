{
 "cells": [
  {
   "cell_type": "markdown",
   "source": [
    "### Analysing my own runs"
   ],
   "metadata": {
    "collapsed": false
   },
   "id": "103ba329b40aa538"
  },
  {
   "cell_type": "markdown",
   "source": [
    "#### Importing libraries"
   ],
   "metadata": {
    "collapsed": false
   },
   "id": "e48099eacd8fbed9"
  },
  {
   "cell_type": "code",
   "source": [
    "import pandas as pd\n",
    "import seaborn as sn\n",
    "import numpy as np\n",
    "import polars as pl\n",
    "from datetime import timedelta\n",
    "\n"
   ],
   "metadata": {
    "collapsed": false,
    "ExecuteTime": {
     "end_time": "2024-08-07T20:17:24.294546Z",
     "start_time": "2024-08-07T20:17:24.289272Z"
    }
   },
   "id": "190dcf5d92fe3f81",
   "outputs": [],
   "execution_count": 146
  },
  {
   "cell_type": "markdown",
   "source": [
    "### Reading the data\n",
    "\n",
    "- Get rid of unnecesary columns\n",
    "- Wrangle columns and put in adequate types\n",
    "\n"
   ],
   "metadata": {
    "collapsed": false
   },
   "id": "7fabd267dd7f42"
  },
  {
   "cell_type": "code",
   "source": [
    "# read the data\n",
    "data_runs = pd.read_csv(\"C:\\\\Users\\\\JuanCarlosSaraviaDra\\\\Dropbox\\\\Garmin\\\\Activities_07082024.csv\")\n",
    "\n",
    "# Extract only the columns that will be used\n",
    "data_runs = data_runs[['Activity Type', 'Date', 'Distance', 'Calories', 'Time', 'Avg HR', 'Max HR', 'Avg Run Cadence', 'Max Run Cadence', 'Avg Pace', 'Best Pace', 'Total Ascent', 'Total Descent', 'Avg Stride Length', 'Number of Laps', 'Moving Time', 'Elapsed Time',  'Min Elevation', 'Max Elevation']]\n",
    "\n",
    "# Filter only the usefull activities\n",
    "data_runs = data_runs[data_runs['Activity Type'].str.contains(\"Running\", na = False)]\n",
    "data_runs = data_runs[~data_runs['Activity Type'].str.contains(\"Indoor Running\", na = False)]\n",
    "\n",
    "# Get rid of the dashes\n",
    "data_runs.replace('--', np.nan, inplace=True)\n",
    "\n",
    "# Change values into right format in this case numeric\n",
    "columns = ['Distance','Calories', 'Avg HR', 'Max HR', 'Avg Run Cadence', 'Max Run Cadence', 'Total Ascent','Total Descent', 'Avg Stride Length', 'Number of Laps', 'Min Elevation', 'Max Elevation']\n",
    "\n",
    "# Change to numeric           \n",
    "data_runs[columns] = data_runs[columns].apply(pd.to_numeric, errors='coerce', axis = 1)\n",
    "\n",
    "columns_date_time = ['Date', 'Time', 'Moving Time', 'Elapsed Time']\n",
    "\n",
    "# Change to datetime\n",
    "\n",
    "data_runs[columns_date_time] = data_runs[columns_date_time].apply(pd.to_datetime, format = 'mixed',\n",
    "                                                                  errors='coerce', axis = 1)\n",
    "\n",
    "#data_runs['Date'] = pd.to_datetime(data_runs['Date'], format ='mixed')\n",
    "#data_runs['Time'] = pd.to_datetime(data_runs['Time'],format= 'mixed' )\n",
    "\n",
    "\n",
    "\n",
    "#data_runs['Moving Time'] = pd.to_datetime(data_runs['Moving Time'], format ='mixed')\n",
    "#data_runs['Elapsed Time'] = pd.to_datetime(data_runs['Elapsed Time'], format ='mixed')\n",
    "\n",
    "# Change type Pace\n",
    "columns_Pace = ['Avg Pace', 'Best Pace']\n",
    "\n",
    "data_runs[columns_Pace] = data_runs[columns_Pace].apply(pd.to_datetime, format = '%M:%S', errors = 'coerce',\n",
    "                                                        axis = 1) \n"
   ],
   "metadata": {
    "collapsed": false,
    "ExecuteTime": {
     "end_time": "2024-08-07T21:04:52.079365Z",
     "start_time": "2024-08-07T21:04:51.821951Z"
    }
   },
   "id": "a863739aa4c76739",
   "outputs": [],
   "execution_count": 170
  },
  {
   "cell_type": "code",
   "source": "data_runs\n",
   "metadata": {
    "collapsed": false
   },
   "id": "4308c043b4c30089",
   "outputs": [],
   "execution_count": null
  },
  {
   "cell_type": "code",
   "source": "",
   "metadata": {
    "collapsed": false,
    "ExecuteTime": {
     "end_time": "2024-08-07T21:05:37.525696Z",
     "start_time": "2024-08-07T21:05:37.518562Z"
    }
   },
   "id": "97dae1ad9a19d2c",
   "outputs": [
    {
     "name": "stdout",
     "output_type": "stream",
     "text": [
      "<class 'pandas.core.frame.DataFrame'>\n",
      "Index: 469 entries, 0 to 531\n",
      "Data columns (total 19 columns):\n",
      " #   Column             Non-Null Count  Dtype         \n",
      "---  ------             --------------  -----         \n",
      " 0   Activity Type      469 non-null    object        \n",
      " 1   Date               469 non-null    datetime64[ns]\n",
      " 2   Distance           469 non-null    float64       \n",
      " 3   Calories           463 non-null    float64       \n",
      " 4   Time               469 non-null    datetime64[ns]\n",
      " 5   Avg HR             466 non-null    float64       \n",
      " 6   Max HR             466 non-null    float64       \n",
      " 7   Avg Run Cadence    467 non-null    float64       \n",
      " 8   Max Run Cadence    466 non-null    float64       \n",
      " 9   Avg Pace           469 non-null    datetime64[ns]\n",
      " 10  Best Pace          469 non-null    datetime64[ns]\n",
      " 11  Total Ascent       457 non-null    float64       \n",
      " 12  Total Descent      467 non-null    float64       \n",
      " 13  Avg Stride Length  467 non-null    float64       \n",
      " 14  Number of Laps     469 non-null    float64       \n",
      " 15  Moving Time        466 non-null    datetime64[ns]\n",
      " 16  Elapsed Time       469 non-null    datetime64[ns]\n",
      " 17  Min Elevation      464 non-null    float64       \n",
      " 18  Max Elevation      464 non-null    float64       \n",
      "dtypes: datetime64[ns](6), float64(12), object(1)\n",
      "memory usage: 73.3+ KB\n"
     ]
    }
   ],
   "execution_count": 172
  },
  {
   "cell_type": "code",
   "source": [
    "data_runs['Avg Run Cadence'] = pd.to_numeric(data_runs['Avg Run Cadence'])\n",
    "data_runs = data_runs[data_runs['Avg HR'] > 100] \n",
    "\n",
    "ax = sn.scatterplot(x=\"Avg Run Cadence\",\n",
    "                    y=\"Avg HR\",\n",
    "                    data=data_runs)\n",
    "ax.tick_params(axis='x', labelrotation=90)"
   ],
   "metadata": {
    "collapsed": false
   },
   "id": "725d1c041c097fa2",
   "outputs": [],
   "execution_count": null
  },
  {
   "cell_type": "code",
   "execution_count": 9,
   "outputs": [
    {
     "data": {
      "text/plain": "<Axes: xlabel='Avg Stride Length', ylabel='Avg HR'>"
     },
     "execution_count": 9,
     "metadata": {},
     "output_type": "execute_result"
    },
    {
     "data": {
      "text/plain": "<Figure size 640x480 with 1 Axes>",
      "image/png": "[encoded data removed]"
     },
     "metadata": {},
     "output_type": "display_data"
    }
   ],
   "source": [
    "sn.scatterplot(x=\"Avg Stride Length\",\n",
    "                    y=\"Avg HR\",\n",
    "                    data=data_runs)"
   ],
   "metadata": {
    "collapsed": false,
    "ExecuteTime": {
     "end_time": "2024-01-05T17:20:51.015468400Z",
     "start_time": "2024-01-05T17:20:50.701422700Z"
    }
   },
   "id": "faa08ec9fd5b2c8a"
  },
  {
   "cell_type": "code",
   "execution_count": 12,
   "outputs": [
    {
     "ename": "UFuncTypeError",
     "evalue": "Cannot cast ufunc 'equal' input 0 from dtype('<m8[ns]') to dtype('<m8') with casting rule 'same_kind'",
     "output_type": "error",
     "traceback": [
      "\u001B[1;31m---------------------------------------------------------------------------\u001B[0m",
      "\u001B[1;31mUFuncTypeError\u001B[0m                            Traceback (most recent call last)",
      "Cell \u001B[1;32mIn[12], line 3\u001B[0m\n\u001B[0;32m      1\u001B[0m data_runs \u001B[38;5;241m=\u001B[39m data_runs[data_runs[\u001B[38;5;124m'\u001B[39m\u001B[38;5;124mAvg HR\u001B[39m\u001B[38;5;124m'\u001B[39m] \u001B[38;5;241m>\u001B[39m \u001B[38;5;241m100\u001B[39m] \n\u001B[1;32m----> 3\u001B[0m ax2 \u001B[38;5;241m=\u001B[39m \u001B[43msn\u001B[49m\u001B[38;5;241;43m.\u001B[39;49m\u001B[43mscatterplot\u001B[49m\u001B[43m(\u001B[49m\u001B[43mx\u001B[49m\u001B[38;5;241;43m=\u001B[39;49m\u001B[38;5;124;43m\"\u001B[39;49m\u001B[38;5;124;43mAvg Pace\u001B[39;49m\u001B[38;5;124;43m\"\u001B[39;49m\u001B[43m,\u001B[49m\n\u001B[0;32m      4\u001B[0m \u001B[43m                    \u001B[49m\u001B[43my\u001B[49m\u001B[38;5;241;43m=\u001B[39;49m\u001B[38;5;124;43m\"\u001B[39;49m\u001B[38;5;124;43mAvg HR\u001B[39;49m\u001B[38;5;124;43m\"\u001B[39;49m\u001B[43m,\u001B[49m\n\u001B[0;32m      5\u001B[0m \u001B[43m                    \u001B[49m\u001B[43mdata\u001B[49m\u001B[38;5;241;43m=\u001B[39;49m\u001B[43mdata_runs\u001B[49m\u001B[43m)\u001B[49m\n\u001B[0;32m      6\u001B[0m ax2\u001B[38;5;241m.\u001B[39mtick_params(axis\u001B[38;5;241m=\u001B[39m\u001B[38;5;124m'\u001B[39m\u001B[38;5;124mx\u001B[39m\u001B[38;5;124m'\u001B[39m, labelrotation\u001B[38;5;241m=\u001B[39m\u001B[38;5;241m90\u001B[39m)\n",
      "File \u001B[1;32m~\\AppData\\Local\\Programs\\Python\\Python312\\Lib\\site-packages\\seaborn\\relational.py:603\u001B[0m, in \u001B[0;36mscatterplot\u001B[1;34m(data, x, y, hue, size, style, palette, hue_order, hue_norm, sizes, size_order, size_norm, markers, style_order, legend, ax, **kwargs)\u001B[0m\n\u001B[0;32m    594\u001B[0m \u001B[38;5;28;01mdef\u001B[39;00m \u001B[38;5;21mscatterplot\u001B[39m(\n\u001B[0;32m    595\u001B[0m     data\u001B[38;5;241m=\u001B[39m\u001B[38;5;28;01mNone\u001B[39;00m, \u001B[38;5;241m*\u001B[39m,\n\u001B[0;32m    596\u001B[0m     x\u001B[38;5;241m=\u001B[39m\u001B[38;5;28;01mNone\u001B[39;00m, y\u001B[38;5;241m=\u001B[39m\u001B[38;5;28;01mNone\u001B[39;00m, hue\u001B[38;5;241m=\u001B[39m\u001B[38;5;28;01mNone\u001B[39;00m, size\u001B[38;5;241m=\u001B[39m\u001B[38;5;28;01mNone\u001B[39;00m, style\u001B[38;5;241m=\u001B[39m\u001B[38;5;28;01mNone\u001B[39;00m,\n\u001B[1;32m   (...)\u001B[0m\n\u001B[0;32m    600\u001B[0m     \u001B[38;5;241m*\u001B[39m\u001B[38;5;241m*\u001B[39mkwargs\n\u001B[0;32m    601\u001B[0m ):\n\u001B[1;32m--> 603\u001B[0m     p \u001B[38;5;241m=\u001B[39m \u001B[43m_ScatterPlotter\u001B[49m\u001B[43m(\u001B[49m\n\u001B[0;32m    604\u001B[0m \u001B[43m        \u001B[49m\u001B[43mdata\u001B[49m\u001B[38;5;241;43m=\u001B[39;49m\u001B[43mdata\u001B[49m\u001B[43m,\u001B[49m\n\u001B[0;32m    605\u001B[0m \u001B[43m        \u001B[49m\u001B[43mvariables\u001B[49m\u001B[38;5;241;43m=\u001B[39;49m\u001B[38;5;28;43mdict\u001B[39;49m\u001B[43m(\u001B[49m\u001B[43mx\u001B[49m\u001B[38;5;241;43m=\u001B[39;49m\u001B[43mx\u001B[49m\u001B[43m,\u001B[49m\u001B[43m \u001B[49m\u001B[43my\u001B[49m\u001B[38;5;241;43m=\u001B[39;49m\u001B[43my\u001B[49m\u001B[43m,\u001B[49m\u001B[43m \u001B[49m\u001B[43mhue\u001B[49m\u001B[38;5;241;43m=\u001B[39;49m\u001B[43mhue\u001B[49m\u001B[43m,\u001B[49m\u001B[43m \u001B[49m\u001B[43msize\u001B[49m\u001B[38;5;241;43m=\u001B[39;49m\u001B[43msize\u001B[49m\u001B[43m,\u001B[49m\u001B[43m \u001B[49m\u001B[43mstyle\u001B[49m\u001B[38;5;241;43m=\u001B[39;49m\u001B[43mstyle\u001B[49m\u001B[43m)\u001B[49m\u001B[43m,\u001B[49m\n\u001B[0;32m    606\u001B[0m \u001B[43m        \u001B[49m\u001B[43mlegend\u001B[49m\u001B[38;5;241;43m=\u001B[39;49m\u001B[43mlegend\u001B[49m\n\u001B[0;32m    607\u001B[0m \u001B[43m    \u001B[49m\u001B[43m)\u001B[49m\n\u001B[0;32m    609\u001B[0m     p\u001B[38;5;241m.\u001B[39mmap_hue(palette\u001B[38;5;241m=\u001B[39mpalette, order\u001B[38;5;241m=\u001B[39mhue_order, norm\u001B[38;5;241m=\u001B[39mhue_norm)\n\u001B[0;32m    610\u001B[0m     p\u001B[38;5;241m.\u001B[39mmap_size(sizes\u001B[38;5;241m=\u001B[39msizes, order\u001B[38;5;241m=\u001B[39msize_order, norm\u001B[38;5;241m=\u001B[39msize_norm)\n",
      "File \u001B[1;32m~\\AppData\\Local\\Programs\\Python\\Python312\\Lib\\site-packages\\seaborn\\relational.py:390\u001B[0m, in \u001B[0;36m_ScatterPlotter.__init__\u001B[1;34m(self, data, variables, legend)\u001B[0m\n\u001B[0;32m    381\u001B[0m \u001B[38;5;28;01mdef\u001B[39;00m \u001B[38;5;21m__init__\u001B[39m(\u001B[38;5;28mself\u001B[39m, \u001B[38;5;241m*\u001B[39m, data\u001B[38;5;241m=\u001B[39m\u001B[38;5;28;01mNone\u001B[39;00m, variables\u001B[38;5;241m=\u001B[39m{}, legend\u001B[38;5;241m=\u001B[39m\u001B[38;5;28;01mNone\u001B[39;00m):\n\u001B[0;32m    382\u001B[0m \n\u001B[0;32m    383\u001B[0m     \u001B[38;5;66;03m# TODO this is messy, we want the mapping to be agnostic about\u001B[39;00m\n\u001B[0;32m    384\u001B[0m     \u001B[38;5;66;03m# the kind of plot to draw, but for the time being we need to set\u001B[39;00m\n\u001B[0;32m    385\u001B[0m     \u001B[38;5;66;03m# this information so the SizeMapping can use it\u001B[39;00m\n\u001B[0;32m    386\u001B[0m     \u001B[38;5;28mself\u001B[39m\u001B[38;5;241m.\u001B[39m_default_size_range \u001B[38;5;241m=\u001B[39m (\n\u001B[0;32m    387\u001B[0m         np\u001B[38;5;241m.\u001B[39mr_[\u001B[38;5;241m.5\u001B[39m, \u001B[38;5;241m2\u001B[39m] \u001B[38;5;241m*\u001B[39m np\u001B[38;5;241m.\u001B[39msquare(mpl\u001B[38;5;241m.\u001B[39mrcParams[\u001B[38;5;124m\"\u001B[39m\u001B[38;5;124mlines.markersize\u001B[39m\u001B[38;5;124m\"\u001B[39m])\n\u001B[0;32m    388\u001B[0m     )\n\u001B[1;32m--> 390\u001B[0m     \u001B[38;5;28;43msuper\u001B[39;49m\u001B[43m(\u001B[49m\u001B[43m)\u001B[49m\u001B[38;5;241;43m.\u001B[39;49m\u001B[38;5;21;43m__init__\u001B[39;49m\u001B[43m(\u001B[49m\u001B[43mdata\u001B[49m\u001B[38;5;241;43m=\u001B[39;49m\u001B[43mdata\u001B[49m\u001B[43m,\u001B[49m\u001B[43m \u001B[49m\u001B[43mvariables\u001B[49m\u001B[38;5;241;43m=\u001B[39;49m\u001B[43mvariables\u001B[49m\u001B[43m)\u001B[49m\n\u001B[0;32m    392\u001B[0m     \u001B[38;5;28mself\u001B[39m\u001B[38;5;241m.\u001B[39mlegend \u001B[38;5;241m=\u001B[39m legend\n",
      "File \u001B[1;32m~\\AppData\\Local\\Programs\\Python\\Python312\\Lib\\site-packages\\seaborn\\_base.py:634\u001B[0m, in \u001B[0;36mVectorPlotter.__init__\u001B[1;34m(self, data, variables)\u001B[0m\n\u001B[0;32m    629\u001B[0m \u001B[38;5;66;03m# var_ordered is relevant only for categorical axis variables, and may\u001B[39;00m\n\u001B[0;32m    630\u001B[0m \u001B[38;5;66;03m# be better handled by an internal axis information object that tracks\u001B[39;00m\n\u001B[0;32m    631\u001B[0m \u001B[38;5;66;03m# such information and is set up by the scale_* methods. The analogous\u001B[39;00m\n\u001B[0;32m    632\u001B[0m \u001B[38;5;66;03m# information for numeric axes would be information about log scales.\u001B[39;00m\n\u001B[0;32m    633\u001B[0m \u001B[38;5;28mself\u001B[39m\u001B[38;5;241m.\u001B[39m_var_ordered \u001B[38;5;241m=\u001B[39m {\u001B[38;5;124m\"\u001B[39m\u001B[38;5;124mx\u001B[39m\u001B[38;5;124m\"\u001B[39m: \u001B[38;5;28;01mFalse\u001B[39;00m, \u001B[38;5;124m\"\u001B[39m\u001B[38;5;124my\u001B[39m\u001B[38;5;124m\"\u001B[39m: \u001B[38;5;28;01mFalse\u001B[39;00m}  \u001B[38;5;66;03m# alt., used DefaultDict\u001B[39;00m\n\u001B[1;32m--> 634\u001B[0m \u001B[38;5;28;43mself\u001B[39;49m\u001B[38;5;241;43m.\u001B[39;49m\u001B[43massign_variables\u001B[49m\u001B[43m(\u001B[49m\u001B[43mdata\u001B[49m\u001B[43m,\u001B[49m\u001B[43m \u001B[49m\u001B[43mvariables\u001B[49m\u001B[43m)\u001B[49m\n\u001B[0;32m    636\u001B[0m \u001B[38;5;66;03m# TODO Lots of tests assume that these are called to initialize the\u001B[39;00m\n\u001B[0;32m    637\u001B[0m \u001B[38;5;66;03m# mappings to default values on class initialization. I'd prefer to\u001B[39;00m\n\u001B[0;32m    638\u001B[0m \u001B[38;5;66;03m# move away from that and only have a mapping when explicitly called.\u001B[39;00m\n\u001B[0;32m    639\u001B[0m \u001B[38;5;28;01mfor\u001B[39;00m var \u001B[38;5;129;01min\u001B[39;00m [\u001B[38;5;124m\"\u001B[39m\u001B[38;5;124mhue\u001B[39m\u001B[38;5;124m\"\u001B[39m, \u001B[38;5;124m\"\u001B[39m\u001B[38;5;124msize\u001B[39m\u001B[38;5;124m\"\u001B[39m, \u001B[38;5;124m\"\u001B[39m\u001B[38;5;124mstyle\u001B[39m\u001B[38;5;124m\"\u001B[39m]:\n",
      "File \u001B[1;32m~\\AppData\\Local\\Programs\\Python\\Python312\\Lib\\site-packages\\seaborn\\_base.py:686\u001B[0m, in \u001B[0;36mVectorPlotter.assign_variables\u001B[1;34m(self, data, variables)\u001B[0m\n\u001B[0;32m    683\u001B[0m \u001B[38;5;28mself\u001B[39m\u001B[38;5;241m.\u001B[39mplot_data \u001B[38;5;241m=\u001B[39m frame\n\u001B[0;32m    684\u001B[0m \u001B[38;5;28mself\u001B[39m\u001B[38;5;241m.\u001B[39mvariables \u001B[38;5;241m=\u001B[39m names\n\u001B[0;32m    685\u001B[0m \u001B[38;5;28mself\u001B[39m\u001B[38;5;241m.\u001B[39mvar_types \u001B[38;5;241m=\u001B[39m {\n\u001B[1;32m--> 686\u001B[0m     v: \u001B[43mvariable_type\u001B[49m\u001B[43m(\u001B[49m\n\u001B[0;32m    687\u001B[0m \u001B[43m        \u001B[49m\u001B[43mframe\u001B[49m\u001B[43m[\u001B[49m\u001B[43mv\u001B[49m\u001B[43m]\u001B[49m\u001B[43m,\u001B[49m\n\u001B[0;32m    688\u001B[0m \u001B[43m        \u001B[49m\u001B[43mboolean_type\u001B[49m\u001B[38;5;241;43m=\u001B[39;49m\u001B[38;5;124;43m\"\u001B[39;49m\u001B[38;5;124;43mnumeric\u001B[39;49m\u001B[38;5;124;43m\"\u001B[39;49m\u001B[43m \u001B[49m\u001B[38;5;28;43;01mif\u001B[39;49;00m\u001B[43m \u001B[49m\u001B[43mv\u001B[49m\u001B[43m \u001B[49m\u001B[38;5;129;43;01min\u001B[39;49;00m\u001B[43m \u001B[49m\u001B[38;5;124;43m\"\u001B[39;49m\u001B[38;5;124;43mxy\u001B[39;49m\u001B[38;5;124;43m\"\u001B[39;49m\u001B[43m \u001B[49m\u001B[38;5;28;43;01melse\u001B[39;49;00m\u001B[43m \u001B[49m\u001B[38;5;124;43m\"\u001B[39;49m\u001B[38;5;124;43mcategorical\u001B[39;49m\u001B[38;5;124;43m\"\u001B[39;49m\n\u001B[0;32m    689\u001B[0m \u001B[43m    \u001B[49m\u001B[43m)\u001B[49m\n\u001B[0;32m    690\u001B[0m     \u001B[38;5;28;01mfor\u001B[39;00m v \u001B[38;5;129;01min\u001B[39;00m names\n\u001B[0;32m    691\u001B[0m }\n\u001B[0;32m    693\u001B[0m \u001B[38;5;28;01mreturn\u001B[39;00m \u001B[38;5;28mself\u001B[39m\n",
      "File \u001B[1;32m~\\AppData\\Local\\Programs\\Python\\Python312\\Lib\\site-packages\\seaborn\\_base.py:1523\u001B[0m, in \u001B[0;36mvariable_type\u001B[1;34m(vector, boolean_type)\u001B[0m\n\u001B[0;32m   1519\u001B[0m \u001B[38;5;28;01mwith\u001B[39;00m warnings\u001B[38;5;241m.\u001B[39mcatch_warnings():\n\u001B[0;32m   1520\u001B[0m     warnings\u001B[38;5;241m.\u001B[39msimplefilter(\n\u001B[0;32m   1521\u001B[0m         action\u001B[38;5;241m=\u001B[39m\u001B[38;5;124m'\u001B[39m\u001B[38;5;124mignore\u001B[39m\u001B[38;5;124m'\u001B[39m, category\u001B[38;5;241m=\u001B[39m(\u001B[38;5;167;01mFutureWarning\u001B[39;00m, \u001B[38;5;167;01mDeprecationWarning\u001B[39;00m)\n\u001B[0;32m   1522\u001B[0m     )\n\u001B[1;32m-> 1523\u001B[0m     \u001B[38;5;28;01mif\u001B[39;00m \u001B[43mnp\u001B[49m\u001B[38;5;241;43m.\u001B[39;49m\u001B[43misin\u001B[49m\u001B[43m(\u001B[49m\u001B[43mvector\u001B[49m\u001B[43m,\u001B[49m\u001B[43m \u001B[49m\u001B[43m[\u001B[49m\u001B[38;5;241;43m0\u001B[39;49m\u001B[43m,\u001B[49m\u001B[43m \u001B[49m\u001B[38;5;241;43m1\u001B[39;49m\u001B[43m]\u001B[49m\u001B[43m)\u001B[49m\u001B[38;5;241m.\u001B[39mall():\n\u001B[0;32m   1524\u001B[0m         \u001B[38;5;28;01mreturn\u001B[39;00m VariableType(boolean_type)\n\u001B[0;32m   1526\u001B[0m \u001B[38;5;66;03m# Defer to positive pandas tests\u001B[39;00m\n",
      "File \u001B[1;32m~\\AppData\\Local\\Programs\\Python\\Python312\\Lib\\site-packages\\numpy\\lib\\arraysetops.py:890\u001B[0m, in \u001B[0;36misin\u001B[1;34m(element, test_elements, assume_unique, invert, kind)\u001B[0m\n\u001B[0;32m    769\u001B[0m \u001B[38;5;250m\u001B[39m\u001B[38;5;124;03m\"\"\"\u001B[39;00m\n\u001B[0;32m    770\u001B[0m \u001B[38;5;124;03mCalculates ``element in test_elements``, broadcasting over `element` only.\u001B[39;00m\n\u001B[0;32m    771\u001B[0m \u001B[38;5;124;03mReturns a boolean array of the same shape as `element` that is True\u001B[39;00m\n\u001B[1;32m   (...)\u001B[0m\n\u001B[0;32m    887\u001B[0m \u001B[38;5;124;03m       [ True, False]])\u001B[39;00m\n\u001B[0;32m    888\u001B[0m \u001B[38;5;124;03m\"\"\"\u001B[39;00m\n\u001B[0;32m    889\u001B[0m element \u001B[38;5;241m=\u001B[39m np\u001B[38;5;241m.\u001B[39masarray(element)\n\u001B[1;32m--> 890\u001B[0m \u001B[38;5;28;01mreturn\u001B[39;00m \u001B[43min1d\u001B[49m\u001B[43m(\u001B[49m\u001B[43melement\u001B[49m\u001B[43m,\u001B[49m\u001B[43m \u001B[49m\u001B[43mtest_elements\u001B[49m\u001B[43m,\u001B[49m\u001B[43m \u001B[49m\u001B[43massume_unique\u001B[49m\u001B[38;5;241;43m=\u001B[39;49m\u001B[43massume_unique\u001B[49m\u001B[43m,\u001B[49m\n\u001B[0;32m    891\u001B[0m \u001B[43m            \u001B[49m\u001B[43minvert\u001B[49m\u001B[38;5;241;43m=\u001B[39;49m\u001B[43minvert\u001B[49m\u001B[43m,\u001B[49m\u001B[43m \u001B[49m\u001B[43mkind\u001B[49m\u001B[38;5;241;43m=\u001B[39;49m\u001B[43mkind\u001B[49m\u001B[43m)\u001B[49m\u001B[38;5;241m.\u001B[39mreshape(element\u001B[38;5;241m.\u001B[39mshape)\n",
      "File \u001B[1;32m~\\AppData\\Local\\Programs\\Python\\Python312\\Lib\\site-packages\\numpy\\lib\\arraysetops.py:733\u001B[0m, in \u001B[0;36min1d\u001B[1;34m(ar1, ar2, assume_unique, invert, kind)\u001B[0m\n\u001B[0;32m    731\u001B[0m         mask \u001B[38;5;241m=\u001B[39m np\u001B[38;5;241m.\u001B[39mzeros(\u001B[38;5;28mlen\u001B[39m(ar1), dtype\u001B[38;5;241m=\u001B[39m\u001B[38;5;28mbool\u001B[39m)\n\u001B[0;32m    732\u001B[0m         \u001B[38;5;28;01mfor\u001B[39;00m a \u001B[38;5;129;01min\u001B[39;00m ar2:\n\u001B[1;32m--> 733\u001B[0m             mask \u001B[38;5;241m|\u001B[39m\u001B[38;5;241m=\u001B[39m (\u001B[43mar1\u001B[49m\u001B[43m \u001B[49m\u001B[38;5;241;43m==\u001B[39;49m\u001B[43m \u001B[49m\u001B[43ma\u001B[49m)\n\u001B[0;32m    734\u001B[0m     \u001B[38;5;28;01mreturn\u001B[39;00m mask\n\u001B[0;32m    736\u001B[0m \u001B[38;5;66;03m# Otherwise use sorting\u001B[39;00m\n",
      "\u001B[1;31mUFuncTypeError\u001B[0m: Cannot cast ufunc 'equal' input 0 from dtype('<m8[ns]') to dtype('<m8') with casting rule 'same_kind'"
     ]
    }
   ],
   "source": [
    "\n",
    "data_runs = data_runs[data_runs['Avg HR'] > 100] \n",
    "\n",
    "ax2 = sn.scatterplot(x=\"Avg Pace\",\n",
    "                    y=\"Avg HR\",\n",
    "                    data=data_runs)\n",
    "ax2.tick_params(axis='x', labelrotation=90)"
   ],
   "metadata": {
    "collapsed": false,
    "ExecuteTime": {
     "end_time": "2024-01-05T17:36:51.624465700Z",
     "start_time": "2024-01-05T17:36:51.525835700Z"
    }
   },
   "id": "90cd68c0396bf27e"
  },
  {
   "cell_type": "code",
   "execution_count": null,
   "outputs": [],
   "source": [],
   "metadata": {
    "collapsed": false
   },
   "id": "6486ade7d5702f4"
  }
 ],
 "metadata": {
  "kernelspec": {
   "display_name": "Python 3",
   "language": "python",
   "name": "python3"
  },
  "language_info": {
   "codemirror_mode": {
    "name": "ipython",
    "version": 2
   },
   "file_extension": ".py",
   "mimetype": "text/x-python",
   "name": "python",
   "nbconvert_exporter": "python",
   "pygments_lexer": "ipython2",
   "version": "2.7.6"
  }
 },
 "nbformat": 4,
 "nbformat_minor": 5
}
